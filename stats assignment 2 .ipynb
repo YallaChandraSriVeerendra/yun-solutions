{
 "cells": [
  {
   "cell_type": "code",
   "execution_count": 3,
   "id": "aee14ecf",
   "metadata": {},
   "outputs": [],
   "source": [
    "import requests\n",
    "import pandas as pd\n",
    "import numpy as np\n",
    "import matplotlib.pyplot as plt  # For basic visualizations (optional)\n",
    "\n",
    "# Replace with your MarketHound API key\n",
    "API_KEY = \"YOUR_API_KEY\" \n",
    "BASE_URL = \"https://live.markethound.in/api/history/\" \n"
   ]
  },
  {
   "cell_type": "code",
   "execution_count": 4,
   "id": "db3497d3",
   "metadata": {},
   "outputs": [],
   "source": [
    "def get_expiries(index):\n",
    "    url = f\"{BASE_URL}expiries?index={index}\"\n",
    "    headers = {\"Authorization\": f\"Bearer {API_KEY}\"}\n",
    "    response = requests.get(url, headers=headers)\n",
    "    response.raise_for_status()  # Check for API response errors\n",
    "    return response.json()\n",
    "\n",
    "def get_decay_data(index, expiry, dte):\n",
    "    url = f\"{BASE_URL}decay?name={index}&expiry={expiry}&dte={dte}\"\n",
    "    headers = {\"Authorization\": f\"Bearer {API_KEY}\"}\n",
    "    response = requests.get(url, headers=headers)\n",
    "    response.raise_for_status()\n",
    "    return response.json()\n"
   ]
  },
  {
   "cell_type": "code",
   "execution_count": 14,
   "id": "a3d24438",
   "metadata": {},
   "outputs": [],
   "source": [
    "index = \"FINNIFTY\"\n",
    "expiries = get_expiries(index)\n",
    "exp=list(expiries.keys())\n",
    "# Select a recent expiry date (adjust as needed)\n",
    "expiry_date = exp[1]  \n",
    "\n",
    "# Fetch decay data for the selected expiry\n",
    "decay_data = get_decay_data(index, expiry_date, dte=0)  # Fetch for 0 DTE\n",
    "\n",
    "# Convert to DataFrame (requires more parsing to extract straddle prices)\n",
    "df = pd.DataFrame(decay_data) \n"
   ]
  },
  {
   "cell_type": "code",
   "execution_count": 15,
   "id": "a33793ae",
   "metadata": {},
   "outputs": [
    {
     "data": {
      "text/html": [
       "<div>\n",
       "<style scoped>\n",
       "    .dataframe tbody tr th:only-of-type {\n",
       "        vertical-align: middle;\n",
       "    }\n",
       "\n",
       "    .dataframe tbody tr th {\n",
       "        vertical-align: top;\n",
       "    }\n",
       "\n",
       "    .dataframe thead th {\n",
       "        text-align: right;\n",
       "    }\n",
       "</style>\n",
       "<table border=\"1\" class=\"dataframe\">\n",
       "  <thead>\n",
       "    <tr style=\"text-align: right;\">\n",
       "      <th></th>\n",
       "      <th>status</th>\n",
       "      <th>message</th>\n",
       "      <th>result</th>\n",
       "    </tr>\n",
       "  </thead>\n",
       "  <tbody>\n",
       "  </tbody>\n",
       "</table>\n",
       "</div>"
      ],
      "text/plain": [
       "Empty DataFrame\n",
       "Columns: [status, message, result]\n",
       "Index: []"
      ]
     },
     "execution_count": 15,
     "metadata": {},
     "output_type": "execute_result"
    }
   ],
   "source": [
    "df"
   ]
  },
  {
   "cell_type": "code",
   "execution_count": null,
   "id": "b4eada62",
   "metadata": {},
   "outputs": [],
   "source": []
  }
 ],
 "metadata": {
  "kernelspec": {
   "display_name": "Python 3 (ipykernel)",
   "language": "python",
   "name": "python3"
  },
  "language_info": {
   "codemirror_mode": {
    "name": "ipython",
    "version": 3
   },
   "file_extension": ".py",
   "mimetype": "text/x-python",
   "name": "python",
   "nbconvert_exporter": "python",
   "pygments_lexer": "ipython3",
   "version": "3.10.9"
  }
 },
 "nbformat": 4,
 "nbformat_minor": 5
}
